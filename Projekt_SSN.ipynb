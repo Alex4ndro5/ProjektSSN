{
 "cells": [
  {
   "cell_type": "markdown",
   "metadata": {},
   "source": [
    "# Projekt SSN (Sztuczne sieci neuronowe)\n",
    "### Autorzy: Aleksander Folfas, Zosia Jaworska, Maciej Komosa, Kajetan Łodej, Natalia Łyś"
   ]
  },
  {
   "cell_type": "markdown",
   "metadata": {},
   "source": [
    "### Opis\n",
    "Projekt ma na celu wykorzystanie sztucznych sieci neuronowych do wyceny nieruchomości mieszkaniowych. Wykorzystany zostanie jeden z najbardziej popularnych typów sztucznych sieci neuronowych- MLP, czyli multilayer perceptron (perceptron wielowarstwowy). Prognozowanie ceny mieszkania odbywać się będzie na podstawie parametrów, takich jak powierzchnia nieruchomości, ilość sypialni, ilość łazienek, lokalizacja czy rok budowy. W projekcie, analizie zostanie też poddany wpływ różnych parametrów sieci neuronowej na skuteczność jej działania. Analiza ta może pomóc w znalezieniu struktury sieci, która pozwoli osiągnąć bardziej precyzyjne prognozy wartości nieruchomości."
   ]
  },
  {
   "cell_type": "markdown",
   "metadata": {},
   "source": [
    "### Przegląd literatury\n",
    "W literaturze można znaleźć wiele rozwiązań powyżej opisanego problemu. W większości rozwiązań zmiennych objaśniających jest więcej niż w niniejszym projekcie i zazwyczaj wykorzystują one System Informacji Geograficznej, który pozwala na uzyskanie informacji o lokalizacji nieruchomości w przestrzeni.\n",
    "\n",
    "•\tJasiński T., Bochenek A. Prognozowanie cen nieruchomości lokalowych za pomocą sztucznych sieci neuronowych. Studia i Prace WNEiZ US, nr 45/1. Szczecin 2016\n",
    "\n",
    "Badanie dotyczyło mieszkań w Łodzi. Modelowanie w powyższym artykule zostało przeprowadzone z użyciem sieci jednokierunkowych dwu- oraz trójwarstwowych oraz o radialnych funkcjach bazowych (RBF). Prognozowanymi wartościami były zarówno ceny nieruchomości, jak i ceny za m2. Zbiór danych zawierał 130 obserwacji. Zmienne objaśniające użyte przez autorów to:  powierzchnia nieruchomości lokalowej, powierzchnia nieruchomości wraz z pomieszczeniami przynależnymi, przynależność piwnicy, liczba izb, liczba pokojów, kondygnacja, na której znajduje się nieruchomość, liczba kondygnacji w budynku, stan budynku, długość trasy samochodowej do kompleksu Manufaktura, szacowany czas przejazdu autem do kompleksu Manufaktura, minimum odległości nieruchomości od jednego z dwóch głównych centrów handlowo-rozrywkowych Łodzi, to jest kompleksu Manufaktura oraz Galerii Łódzkiej, odległość od placu Wolności, odległość od najbliższego obszaru zieleni.\n",
    "Najlepsze wyniki zostały uzyskane w przypadku sieci MLP dwuwarstwowej. Błędy prognozy były stosunkowo niskie. Modele wyceniające wartość całej nieruchomości dawały lepsze prognozy niż modele prognozujące cenę za m2. Autorzy zwracają uwagę, że model może jedynie oszacować cenę nieruchomości, każdy przypadek wymaga indywidualnej korekty.\n",
    "\n",
    "•\tGarcia N., Gamez M., Alfaro E. ANN+GIS: An Automated System for Property Valuation., 2008\n",
    "\n",
    "Badanie skupiało się na rozwiązaniu problemów, związanych z wyceną nieruchomości za pomocą SSN, wynikających z braku informacji lub nieliniowości zmiennych. Praca skupia się na podkreśleniu istotności lokalizacji, w jakiej znajduje się nieruchomość. Im dokładniej nieruchomość zostanie umiejscowiona w przestrzeni, tym lepszy będzie wynik. Autorzy rekomendują użycie Systemu Informacji Geograficznej, który pozwala na dokonanie bardziej jakościowej prognozy. Samo badanie dotyczyło mieszkań w Albacete. Zbiór danych zawierał 562 obserwacje. Modelowanie zostało przeprowadzone z użyciem sieci MLP oraz RBF. Z prognozowaniem najlepiej poradziła sobie sieć MLP o dwóch warstwach ukrytych o 14 neuronach w warstwie wejściowej - średni błąd prognozy był na poziomie jedynie 5,65%.\n",
    "\n",
    "•\tMazur-Dudzińska A., Sztuczne sieci neuronowe w modelowaniu zjawisk zachodzących na rynku nieruchomości, 2014\n",
    "\n",
    "Badanie dotyczy łódzkiego wtórnego rynku mieszkaniowego. Jego celem jest zastosowanie sieci neuronowych do przewidywania cen nieruchomości. Zbiór danych wynosił 240 obserwacji. Każda nieruchomość została zakwalifikowana do jednej z 4 grup cenowych, do klasyfikacji zostały wykorzystane jednokierunkowe sieci wielowarstwowe. Do modelowania został wykorzystany perceptron o jednej warstwie ukrytej (w warstwie wejściowej tyle neuronów, ile zmiennych wejściowych; w warstwie ukrytej 3 neurony; w warstwie wyjściowej 4 neurony odpowiadające grupom cenowym). Najlepsze wyniki (80% mieszkań zakwalifikowanych poprawnie) osiągnięto w modelu, w którym zmiennymi objaśniającymi były: powierzchnia mieszkania, liczba pokoi, rok budowy, posiadanie balkonu oraz ocena stanu technicznego. \n"
   ]
  },
  {
   "cell_type": "markdown",
   "metadata": {},
   "source": [
    "## Wstęp"
   ]
  },
  {
   "cell_type": "code",
   "execution_count": 85,
   "metadata": {},
   "outputs": [],
   "source": [
    "import numpy as np\n",
    "import random\n",
    "import pandas as pd\n",
    "import matplotlib.pyplot as plt\n",
    "from tqdm import tqdm\n",
    "from sklearn.preprocessing import LabelEncoder\n",
    "from sklearn.preprocessing import MinMaxScaler\n",
    "from sklearn.model_selection import train_test_split"
   ]
  },
  {
   "cell_type": "code",
   "execution_count": 86,
   "metadata": {},
   "outputs": [
    {
     "data": {
      "text/html": [
       "<div>\n",
       "<style scoped>\n",
       "    .dataframe tbody tr th:only-of-type {\n",
       "        vertical-align: middle;\n",
       "    }\n",
       "\n",
       "    .dataframe tbody tr th {\n",
       "        vertical-align: top;\n",
       "    }\n",
       "\n",
       "    .dataframe thead th {\n",
       "        text-align: right;\n",
       "    }\n",
       "</style>\n",
       "<table border=\"1\" class=\"dataframe\">\n",
       "  <thead>\n",
       "    <tr style=\"text-align: right;\">\n",
       "      <th></th>\n",
       "      <th>SquareFeet</th>\n",
       "      <th>Bedrooms</th>\n",
       "      <th>Bathrooms</th>\n",
       "      <th>Neighborhood</th>\n",
       "      <th>YearBuilt</th>\n",
       "      <th>Price</th>\n",
       "    </tr>\n",
       "  </thead>\n",
       "  <tbody>\n",
       "    <tr>\n",
       "      <th>0</th>\n",
       "      <td>2126</td>\n",
       "      <td>4</td>\n",
       "      <td>1</td>\n",
       "      <td>Rural</td>\n",
       "      <td>1969</td>\n",
       "      <td>215355.283618</td>\n",
       "    </tr>\n",
       "    <tr>\n",
       "      <th>1</th>\n",
       "      <td>2459</td>\n",
       "      <td>3</td>\n",
       "      <td>2</td>\n",
       "      <td>Rural</td>\n",
       "      <td>1980</td>\n",
       "      <td>195014.221626</td>\n",
       "    </tr>\n",
       "    <tr>\n",
       "      <th>2</th>\n",
       "      <td>1860</td>\n",
       "      <td>2</td>\n",
       "      <td>1</td>\n",
       "      <td>Suburb</td>\n",
       "      <td>1970</td>\n",
       "      <td>306891.012076</td>\n",
       "    </tr>\n",
       "    <tr>\n",
       "      <th>3</th>\n",
       "      <td>2294</td>\n",
       "      <td>2</td>\n",
       "      <td>1</td>\n",
       "      <td>Urban</td>\n",
       "      <td>1996</td>\n",
       "      <td>206786.787153</td>\n",
       "    </tr>\n",
       "    <tr>\n",
       "      <th>4</th>\n",
       "      <td>2130</td>\n",
       "      <td>5</td>\n",
       "      <td>2</td>\n",
       "      <td>Suburb</td>\n",
       "      <td>2001</td>\n",
       "      <td>272436.239065</td>\n",
       "    </tr>\n",
       "  </tbody>\n",
       "</table>\n",
       "</div>"
      ],
      "text/plain": [
       "   SquareFeet  Bedrooms  Bathrooms Neighborhood  YearBuilt          Price\n",
       "0        2126         4          1        Rural       1969  215355.283618\n",
       "1        2459         3          2        Rural       1980  195014.221626\n",
       "2        1860         2          1       Suburb       1970  306891.012076\n",
       "3        2294         2          1        Urban       1996  206786.787153\n",
       "4        2130         5          2       Suburb       2001  272436.239065"
      ]
     },
     "execution_count": 86,
     "metadata": {},
     "output_type": "execute_result"
    }
   ],
   "source": [
    "# Wczytanie danych\n",
    "housing = pd.read_csv(\"housing_price_dataset.csv\")\n",
    "housing.head()"
   ]
  },
  {
   "cell_type": "markdown",
   "metadata": {},
   "source": [
    "Zmienne w modelu:\n",
    "\n",
    "- SquareFeet - powierzchnia w stopach kwadratowych\n",
    "- Bedrooms - liczba sypialni\n",
    "- Bathrooms - liczba łazienek\n",
    "- Neighborhood - lokalizacja (miejska, podmiejska, wiejska)\n",
    "- YearBuilt - rok budowy\n",
    "- Price - cena"
   ]
  },
  {
   "cell_type": "code",
   "execution_count": 87,
   "metadata": {},
   "outputs": [
    {
     "data": {
      "text/html": [
       "<div>\n",
       "<style scoped>\n",
       "    .dataframe tbody tr th:only-of-type {\n",
       "        vertical-align: middle;\n",
       "    }\n",
       "\n",
       "    .dataframe tbody tr th {\n",
       "        vertical-align: top;\n",
       "    }\n",
       "\n",
       "    .dataframe thead th {\n",
       "        text-align: right;\n",
       "    }\n",
       "</style>\n",
       "<table border=\"1\" class=\"dataframe\">\n",
       "  <thead>\n",
       "    <tr style=\"text-align: right;\">\n",
       "      <th></th>\n",
       "      <th>SquareFeet</th>\n",
       "      <th>Bedrooms</th>\n",
       "      <th>Bathrooms</th>\n",
       "      <th>Neighborhood</th>\n",
       "      <th>YearBuilt</th>\n",
       "      <th>Price</th>\n",
       "    </tr>\n",
       "  </thead>\n",
       "  <tbody>\n",
       "    <tr>\n",
       "      <th>0</th>\n",
       "      <td>2126</td>\n",
       "      <td>4</td>\n",
       "      <td>1</td>\n",
       "      <td>0</td>\n",
       "      <td>1969</td>\n",
       "      <td>215355.283618</td>\n",
       "    </tr>\n",
       "    <tr>\n",
       "      <th>1</th>\n",
       "      <td>2459</td>\n",
       "      <td>3</td>\n",
       "      <td>2</td>\n",
       "      <td>0</td>\n",
       "      <td>1980</td>\n",
       "      <td>195014.221626</td>\n",
       "    </tr>\n",
       "    <tr>\n",
       "      <th>2</th>\n",
       "      <td>1860</td>\n",
       "      <td>2</td>\n",
       "      <td>1</td>\n",
       "      <td>1</td>\n",
       "      <td>1970</td>\n",
       "      <td>306891.012076</td>\n",
       "    </tr>\n",
       "    <tr>\n",
       "      <th>3</th>\n",
       "      <td>2294</td>\n",
       "      <td>2</td>\n",
       "      <td>1</td>\n",
       "      <td>2</td>\n",
       "      <td>1996</td>\n",
       "      <td>206786.787153</td>\n",
       "    </tr>\n",
       "    <tr>\n",
       "      <th>4</th>\n",
       "      <td>2130</td>\n",
       "      <td>5</td>\n",
       "      <td>2</td>\n",
       "      <td>1</td>\n",
       "      <td>2001</td>\n",
       "      <td>272436.239065</td>\n",
       "    </tr>\n",
       "  </tbody>\n",
       "</table>\n",
       "</div>"
      ],
      "text/plain": [
       "   SquareFeet  Bedrooms  Bathrooms  Neighborhood  YearBuilt          Price\n",
       "0        2126         4          1             0       1969  215355.283618\n",
       "1        2459         3          2             0       1980  195014.221626\n",
       "2        1860         2          1             1       1970  306891.012076\n",
       "3        2294         2          1             2       1996  206786.787153\n",
       "4        2130         5          2             1       2001  272436.239065"
      ]
     },
     "execution_count": 87,
     "metadata": {},
     "output_type": "execute_result"
    }
   ],
   "source": [
    "# Ziana Neighborhood na liczby\n",
    "le = LabelEncoder()\n",
    "housing[\"Neighborhood\"] = le.fit_transform(housing[\"Neighborhood\"])\n",
    "housing.head()"
   ]
  },
  {
   "cell_type": "code",
   "execution_count": 88,
   "metadata": {},
   "outputs": [
    {
     "data": {
      "image/png": "[encoded data removed]",
      "text/plain": [
       "<Figure size 1500x500 with 3 Axes>"
      ]
     },
     "metadata": {},
     "output_type": "display_data"
    }
   ],
   "source": [
    "# Histogramy dla zmienny SquareFeet, YearBuilt, Price w grdzie 3x1\n",
    "fig, axes = plt.subplots(1, 3, figsize=(15, 5))\n",
    "housing['SquareFeet'].hist(ax=axes[0], bins=50)\n",
    "housing['YearBuilt'].hist(ax=axes[1], bins=50)\n",
    "housing['Price'].hist(ax=axes[2], bins=50)\n",
    "plt.show()"
   ]
  },
  {
   "cell_type": "code",
   "execution_count": 89,
   "metadata": {},
   "outputs": [
    {
     "data": {
      "image/png": "[encoded data removed]",
      "text/plain": [
       "<Figure size 1500x500 with 3 Axes>"
      ]
     },
     "metadata": {},
     "output_type": "display_data"
    }
   ],
   "source": [
    "# Wykresy kołowe dla zmiennych: Neighborhood, Bathrooms, Bedrooms \n",
    "fig, axes = plt.subplots(1, 3, figsize=(15, 5))\n",
    "housing['Neighborhood'].value_counts().plot(kind='pie', ax=axes[0], title = 'Neighborhood', autopct='%1.1f%%')\n",
    "housing['Bathrooms'].value_counts().plot(kind='pie', ax=axes[1] , title = 'Bathrooms',  autopct='%1.1f%%')\n",
    "housing['Bedrooms'].value_counts().plot(kind='pie', ax=axes[2], title = 'Bedrooms',  autopct='%1.1f%%')\n",
    "plt.show()"
   ]
  },
  {
   "cell_type": "markdown",
   "metadata": {},
   "source": [
    "Neighbourhood: 0 - Rural, 1 - Suburb, 2 - Urban"
   ]
  },
  {
   "cell_type": "markdown",
   "metadata": {},
   "source": [
    "### Kod funkcji aktywacji"
   ]
  },
  {
   "cell_type": "code",
   "execution_count": 90,
   "metadata": {},
   "outputs": [],
   "source": [
    "# Funkcja aktywacji logistyczna\n",
    "def sigmoid(x, pochodna=False):\n",
    "    if pochodna:\n",
    "        # Pochodna funkcji logistycznej\n",
    "        return sigmoid(x) * (1 - sigmoid(x))\n",
    "    # Funkcja logistyczna\n",
    "    return 1 / (1 + np.exp(-x))\n",
    "\n",
    "# Funkcja aktywacji tangensa hiperbolicznego\n",
    "def tanh(x, pochodna=False):\n",
    "    if pochodna:\n",
    "        # Pochodna funkcji tangensa hiperbolicznego\n",
    "        return 1 - np.tanh(x)**2\n",
    "    # Funkcja tangensa hiperbolicznego\n",
    "    return np.tanh(x)\n",
    "\n",
    "# Funkcja aktywacji softplus\n",
    "def softplus(x, pochodna=False):\n",
    "    if pochodna:\n",
    "        # Pochodna funkcji softplus\n",
    "        return sigmoid(x)\n",
    "    # Funkcja softplus\n",
    "    return np.log(1 + np.exp(x))\n",
    "\n",
    "# Funkcja aktywacji Exponential Linear Unit (ELU)\n",
    "def elu(x, pochodna=False):\n",
    "    if pochodna:\n",
    "        # Pochodna funkcji ELU\n",
    "        return np.where(x > 0, 1, np.exp(x))\n",
    "    # Funkcja ELU\n",
    "    return np.where(x > 0, x, np.exp(x) - 1)\n",
    "\n",
    "# Funkcja aktywacji Rectified Linear Unit (ReLU)\n",
    "def relu(x, pochodna=False):\n",
    "    if pochodna:\n",
    "        # Pochodna funkcji ReLU\n",
    "        return np.where(x > 0, 1, 0)\n",
    "    # Funkcja ReLU\n",
    "    return np.maximum(0, x)\n",
    "\n",
    "# Funkcja aktywacji Sigmoid Linear Unit (SiLU)\n",
    "def silu(x, pochodna=False):\n",
    "    sigmoid_x = sigmoid(x)\n",
    "    if pochodna:\n",
    "        # Pochodna funkcji SiLU\n",
    "        return sigmoid_x + x * sigmoid_x * (1 - sigmoid_x)\n",
    "    # Funkcja SiLU\n",
    "    return x * sigmoid_x\n",
    "\n",
    "# Funkcja aktywacji Gaussiana\n",
    "def gaussian(x, pochodna=False):\n",
    "    if pochodna:\n",
    "        # Pochodna funkcji Gaussiana\n",
    "        return -2 * x * np.exp(-x**2)\n",
    "    # Funkcja Gaussiana\n",
    "    return np.exp(-x**2)"
   ]
  },
  {
   "cell_type": "markdown",
   "metadata": {},
   "source": [
    "### Wizualizacja funkcji aktywacji"
   ]
  },
  {
   "cell_type": "code",
   "execution_count": 91,
   "metadata": {},
   "outputs": [
    {
     "data": {
      "image/png": "[encoded data removed]",
      "text/plain": [
       "<Figure size 800x400 with 6 Axes>"
      ]
     },
     "metadata": {},
     "output_type": "display_data"
    }
   ],
   "source": [
    "# Ustawienia siatki\n",
    "rows = 2\n",
    "cols = 3\n",
    "fig, axes = plt.subplots(rows, cols, figsize=(8, 4))\n",
    "\n",
    "# Tworzenie wykresów dla każdej funkcji\n",
    "functions = [sigmoid, tanh, softplus, elu, silu, gaussian]\n",
    "function_names = ['sigmoid', 'tanh', 'softplus', 'elu', 'silu', 'gaussian']\n",
    "\n",
    "for i, ax in enumerate(axes.flatten()):\n",
    "    x = np.linspace(-2, 2, 100)\n",
    "    y = functions[i](x)\n",
    "    y_derivatives = functions[i](x, pochodna=True)\n",
    "    ax.axhline(0, color='black', linewidth=0.8)  \n",
    "    ax.axvline(0, color='black', linewidth=0.8)\n",
    "    ax.plot(x, y, linewidth=1.5)\n",
    "    if y_derivatives is not None:\n",
    "        ax.plot(x, y_derivatives, linewidth=1.5, linestyle='--')\n",
    "    ax.set_title(function_names[i])\n",
    "    ax.grid(True)\n",
    "\n",
    "plt.tight_layout()\n",
    "\n",
    "plt.show()\n"
   ]
  },
  {
   "cell_type": "markdown",
   "metadata": {},
   "source": [
    "## Kod sztucznej sieci neuronowej"
   ]
  },
  {
   "cell_type": "markdown",
   "metadata": {},
   "source": [
    "#### Warstwa, z metodami propagacji naprzód oraz wstecz"
   ]
  },
  {
   "cell_type": "code",
   "execution_count": 92,
   "metadata": {},
   "outputs": [],
   "source": [
    "class warstwa:\n",
    "    def __init__(self, liczba_wejsc, liczba_wyjsc, wspolczynnik_uczenia):\n",
    "        self.x = None\n",
    "        self.wagi = np.random.randn(liczba_wejsc, liczba_wyjsc) / np.sqrt(liczba_wejsc)\n",
    "        rng = np.random.default_rng()\n",
    "        self.bias = rng.random(liczba_wyjsc)\n",
    "        self.liczba_wejsc = liczba_wejsc\n",
    "        self.liczba_wyjsc = liczba_wyjsc\n",
    "        self.wspolczynnik_uczenia = wspolczynnik_uczenia\n",
    "\n",
    "    def naprzod(self, x, trening=False):\n",
    "        if trening:\n",
    "            self.x = x\n",
    "        return np.dot(x, self.wagi) + self.bias\n",
    "    \n",
    "    def wstecz(self, dx):\n",
    "        zmiana_wag = np.dot(self.x.T, dx)\n",
    "        zmiana_biasu = np.sum(dx, axis=0)\n",
    "        self.wagi = self.wagi - np.dot(self.wspolczynnik_uczenia, zmiana_wag)\n",
    "        self.bias = self.bias - np.dot(self.wspolczynnik_uczenia, zmiana_biasu)\n",
    "        return np.dot(dx, self.wagi.T)"
   ]
  },
  {
   "cell_type": "markdown",
   "metadata": {},
   "source": [
    "#### Bramki aktywacji"
   ]
  },
  {
   "cell_type": "code",
   "execution_count": 93,
   "metadata": {},
   "outputs": [],
   "source": [
    "class Sigmoid:\n",
    "    def __init__(self):\n",
    "        self.wyjscie = None\n",
    "\n",
    "    def naprzod(self, x, trening=False):\n",
    "        wynik = 1/(1+np.exp(-x))\n",
    "        if trening:\n",
    "            self.wyjscie = wynik\n",
    "        return wynik\n",
    "    \n",
    "    def wstecz(self, dx):\n",
    "        return dx * (1 - self.wyjscie) * self.wyjscie\n",
    "    \n",
    "class ReLU:\n",
    "    def __init__(self):\n",
    "        self.wyjscie = None\n",
    "\n",
    "    def naprzod(self, x, trening=False):\n",
    "        wynik = np.where(x > 0, x, 0)\n",
    "        if trening:\n",
    "            self.wyjscie = wynik\n",
    "        return wynik\n",
    "    \n",
    "    def wstecz(self, dx):\n",
    "        return dx * np.where(self.wyjscie > 0, 1, 0)\n",
    "    \n",
    "class Softplus:\n",
    "    def __init__(self):\n",
    "        self.wyjscie = None\n",
    "\n",
    "    def naprzod(self, x, trening=False):\n",
    "        wynik = np.log(1+np.exp(x))\n",
    "        if trening:\n",
    "            self.wyjscie = wynik\n",
    "        return wynik\n",
    "    \n",
    "    def wstecz(self, dx):\n",
    "        return dx * 1/(1+np.exp(-self.wyjscie))\n",
    "    \n",
    "class Gaussian:\n",
    "    def __init__(self):\n",
    "        self.wyjscie = None\n",
    "\n",
    "    def naprzod(self, x, trening=False):\n",
    "        wynik = np.exp(-x**2)\n",
    "        if trening:\n",
    "            self.wyjscie = wynik\n",
    "        return wynik\n",
    "    \n",
    "    def wstecz(self, dx):\n",
    "        return dx * (-2 * self.wyjscie * np.exp(-self.wyjscie**2))"
   ]
  },
  {
   "cell_type": "markdown",
   "metadata": {},
   "source": [
    "### Neuron błędu"
   ]
  },
  {
   "cell_type": "code",
   "execution_count": 94,
   "metadata": {},
   "outputs": [],
   "source": [
    "class MSE:\n",
    "    def __init__(self):\n",
    "        self.wyjscie = None\n",
    "        self.x = None\n",
    "        self.y = None\n",
    "\n",
    "    def naprzod(self, x, y, trening=False):\n",
    "        self.x = x\n",
    "        self.y = y\n",
    "        wynik = np.mean(np.power(x - y, 2))\n",
    "        if trening:\n",
    "            self.wyjscie = wynik\n",
    "        return wynik\n",
    "    \n",
    "    def wstecz(self):\n",
    "        return 2 * (self.x - self.y) / self.x.size"
   ]
  },
  {
   "cell_type": "markdown",
   "metadata": {},
   "source": [
    "#### Perceptron, z metodami propagacji naprzód oraz wstecz\n",
    "Przy propagacji naprzód przepuszcza dane wejściowe przez całą sieć, zwraca wyjście ostatniej warstwy (ostatnia warstwa jest jednym neuronem, wyjście jest jedną liczbą)\n",
    "Przy propagacji wstecz oblicza błąd predykcji oraz przepuszcza go przez całą sieć, nie zwraca żadnej wartości"
   ]
  },
  {
   "cell_type": "code",
   "execution_count": 95,
   "metadata": {},
   "outputs": [],
   "source": [
    "class wielowarstwowy_perceptron:\n",
    "    def __init__(self, n_warstw, n_neuronow, n_wejsc, wspolczynnik_uczenia=0.01, warstwa_aktywacji=Sigmoid()):\n",
    "        self.warstwy = [warstwa(n_wejsc, n_neuronow, wspolczynnik_uczenia=0)]\n",
    "        for _ in range(n_warstw):\n",
    "            self.warstwy.append(warstwa(n_neuronow, n_neuronow, wspolczynnik_uczenia))\n",
    "            self.warstwy.append(warstwa_aktywacji)\n",
    "        self.warstwy.append(warstwa(n_neuronow, 1, wspolczynnik_uczenia))\n",
    "        self.warstwa_bledu = MSE()\n",
    "\n",
    "    def naprzod(self, x, trening):\n",
    "        wejscie = x\n",
    "        for warstwa in self.warstwy:\n",
    "            wynik = warstwa.naprzod(wejscie, trening)\n",
    "            wejscie = wynik\n",
    "        return wynik\n",
    "\n",
    "    def wstecz(self, wejscie):\n",
    "        blad = wejscie\n",
    "        for warstwa in reversed(self.warstwy):\n",
    "            wynik = warstwa.wstecz(blad)\n",
    "            blad = wynik\n",
    "    \n",
    "    def naprzod_oblicz_blad(self, x, y, trening):\n",
    "        wynik = self.naprzod(x, trening)\n",
    "        return self.warstwa_bledu.naprzod(wynik, y)"
   ]
  },
  {
   "cell_type": "markdown",
   "metadata": {},
   "source": [
    "### Funkcje trenowania i testowania"
   ]
  },
  {
   "cell_type": "code",
   "execution_count": 96,
   "metadata": {},
   "outputs": [],
   "source": [
    "def trenuj_testuj(model, X_trening, X_test, y_trening, y_test, n_okresow, wielkosc_serii=10):\n",
    "\n",
    "    for _ in tqdm(range(n_okresow)):\n",
    "        indeksy_treningu = random.sample(range(len(X_trening)), wielkosc_serii)\n",
    "        X_seria = np.array([X_trening[i] for i in indeksy_treningu])\n",
    "        y_seria = np.array([y_trening[i] for i in indeksy_treningu])\n",
    "\n",
    "        blad = model.naprzod_oblicz_blad(X_seria, y_seria, True)\n",
    "        model.wstecz(blad)\n",
    "    \n",
    "    indeksu_walidacji = random.sample(range(len(X_test)), wielkosc_serii)\n",
    "    X_test = np.array([X_test[i] for i in indeksu_walidacji])\n",
    "    y_test = np.array([y_test[i] for i in indeksu_walidacji])\n",
    "    blad = model.naprzod_oblicz_blad(X_test, y_test, False)\n",
    "    print(\"Blad: {}\".format(blad))\n",
    "    return model.naprzod(X_test, False), blad"
   ]
  },
  {
   "cell_type": "markdown",
   "metadata": {},
   "source": [
    "### Przygotowanie danych"
   ]
  },
  {
   "cell_type": "code",
   "execution_count": 97,
   "metadata": {},
   "outputs": [],
   "source": [
    "housing_val = housing.dropna().values\n",
    "\n",
    "housing_val = MinMaxScaler((-1,1)).fit_transform(housing_val)\n",
    "# Podział danych na zbiór treningowy i testowy\n",
    "X = housing_val[:, :-1]\n",
    "y = housing_val[:, -1]\n",
    "X_trening, X_test, y_trening, y_test = train_test_split(X, y, test_size=0.2, random_state=0)\n"
   ]
  },
  {
   "cell_type": "markdown",
   "metadata": {},
   "source": [
    "# Przebieg testowy"
   ]
  },
  {
   "cell_type": "code",
   "execution_count": 98,
   "metadata": {},
   "outputs": [],
   "source": [
    "%%capture\n",
    "model = wielowarstwowy_perceptron(n_warstw=2, n_neuronow=5, n_wejsc=5, warstwa_aktywacji=ReLU())\n",
    "y_pred, blad= trenuj_testuj(model, X_trening, X_test, y_trening, y_test, 20, 10)"
   ]
  },
  {
   "cell_type": "markdown",
   "metadata": {},
   "source": [
    "# Analiza wpływu parametrów na skuteczność działania sieci"
   ]
  },
  {
   "cell_type": "markdown",
   "metadata": {},
   "source": [
    "Sprawdzanie wartości błędu dla poszczególnych wartości liczby warstw, każda kombinacja parametru jest trenowana 10-krotnie (n_neuronow=5, n_wejsc=5, warstwa_aktywacji=ReLU)."
   ]
  },
  {
   "cell_type": "code",
   "execution_count": 99,
   "metadata": {},
   "outputs": [],
   "source": [
    "%%capture\n",
    "min_blad_list = []\n",
    "warstwa_list = [1, 2, 3, 4, 5, 8]\n",
    "for liczba_warstw in warstwa_list:\n",
    "    blad_list = []\n",
    "    while(len(blad_list)!=10): #10 razy trenowanie i testowanie sieci\n",
    "        model = wielowarstwowy_perceptron(n_warstw=liczba_warstw, n_neuronow=5, n_wejsc=5,warstwa_aktywacji=ReLU())\n",
    "        y_pred, blad= trenuj_testuj(model, X_trening, X_test, y_trening, y_test, 50, 10)\n",
    "        if not np.isnan(blad):\n",
    "            print(blad)\n",
    "            blad_list.append(blad)\n",
    "    min_blad_list.append(min(blad_list))"
   ]
  },
  {
   "cell_type": "markdown",
   "metadata": {},
   "source": [
    "Najmniejsze błędy dla poszczególnych liczb warstw."
   ]
  },
  {
   "cell_type": "code",
   "execution_count": 100,
   "metadata": {},
   "outputs": [
    {
     "name": "stdout",
     "output_type": "stream",
     "text": [
      "Liczba warstw: 1 - najmniejszy błąd: 0.0683442408480558\n",
      "Liczba warstw: 2 - najmniejszy błąd: 0.06268431871449491\n",
      "Liczba warstw: 3 - najmniejszy błąd: 0.0614104049154877\n",
      "Liczba warstw: 4 - najmniejszy błąd: 0.09490309296683541\n",
      "Liczba warstw: 5 - najmniejszy błąd: 0.05006361164291314\n",
      "Liczba warstw: 8 - najmniejszy błąd: 0.06668660091939682\n",
      "\n",
      "Liczba warstw osiągająca najmniejszy błąd: 5\n"
     ]
    }
   ],
   "source": [
    "for z in range(len(warstwa_list)):\n",
    "    print(\"Liczba warstw:\",warstwa_list[z],\"- najmniejszy błąd:\",min_blad_list[z])\n",
    "    \n",
    "optymalna_liczba_warstw = warstwa_list[min_blad_list.index(min(min_blad_list))]\n",
    "\n",
    "print(\"\\nLiczba warstw osiągająca najmniejszy błąd:\",optymalna_liczba_warstw)"
   ]
  },
  {
   "cell_type": "markdown",
   "metadata": {},
   "source": [
    "Sprawdzanie wartości błędu dla poszczególnych wartości liczby neuronów, każda kombinacja parametru jest trenowana 10-krotnie (n_warstw=optymalne, n_wejsc=5, warstwa_aktywacji= ReLU)."
   ]
  },
  {
   "cell_type": "code",
   "execution_count": 75,
   "metadata": {},
   "outputs": [],
   "source": [
    "%%capture\n",
    "min_blad_list = []\n",
    "neuron_list = [1,2,3,4,5,6]\n",
    "for liczba_neuronow in neuron_list:\n",
    "    blad_list = []\n",
    "    while(len(blad_list)!=10): #10 razy trenowanie i testowanie sieci\n",
    "        model = wielowarstwowy_perceptron(n_warstw=optymalna_liczba_warstw, n_neuronow=liczba_neuronow, n_wejsc=5,warstwa_aktywacji=ReLU())\n",
    "        y_pred, blad= trenuj_testuj(model, X_trening, X_test, y_trening, y_test, 50, 10)\n",
    "        if not np.isnan(blad):\n",
    "            print(blad)\n",
    "            blad_list.append(blad)\n",
    "    min_blad_list.append(min(blad_list))"
   ]
  },
  {
   "cell_type": "markdown",
   "metadata": {},
   "source": [
    "Najmniejsze błędy dla poszczególnych liczb neuronów."
   ]
  },
  {
   "cell_type": "code",
   "execution_count": 76,
   "metadata": {},
   "outputs": [
    {
     "name": "stdout",
     "output_type": "stream",
     "text": [
      "Liczba neuronów: 1 - najmniejszy błąd: 0.10164493983998982\n",
      "Liczba neuronów: 2 - najmniejszy błąd: 0.06304856213050732\n",
      "Liczba neuronów: 3 - najmniejszy błąd: 0.06619144880744003\n",
      "Liczba neuronów: 4 - najmniejszy błąd: 0.059942414115463916\n",
      "Liczba neuronów: 5 - najmniejszy błąd: 0.056588679415560346\n",
      "Liczba neuronów: 6 - najmniejszy błąd: 0.07255662266216246\n",
      "\n",
      "Liczba neuronów osiągająca najmniejszy błąd: 5\n"
     ]
    }
   ],
   "source": [
    "for z in range(len(neuron_list)):\n",
    "    print(\"Liczba neuronów:\",neuron_list[z],\"- najmniejszy błąd:\",min_blad_list[z])\n",
    "\n",
    "optymalna_liczba_neuronow = neuron_list[min_blad_list.index(min(min_blad_list))]\n",
    "\n",
    "print(\"\\nLiczba neuronów osiągająca najmniejszy błąd:\",optymalna_liczba_neuronow)"
   ]
  },
  {
   "cell_type": "markdown",
   "metadata": {},
   "source": [
    "Sprawdzanie wartości błędu dla poszczególnych wielkości próby testowej, każda kombinacja parametru jest trenowana 10-krotnie (n_warstw=optymalne, n_neuronow=optymalne, n_wejsc=5,warstwa_aktywacji=ReLU)."
   ]
  },
  {
   "cell_type": "code",
   "execution_count": 77,
   "metadata": {},
   "outputs": [],
   "source": [
    "%%capture\n",
    "min_blad_list = []\n",
    "test_list = [0.1,0.2,0.3,0.4,0.5,0.6]\n",
    "for test_split in test_list:\n",
    "    blad_list = []\n",
    "    while(len(blad_list)!=10): #10 razy trenowanie i testowanie sieci\n",
    "        model = wielowarstwowy_perceptron(n_warstw=optymalna_liczba_warstw, n_neuronow=optymalna_liczba_neuronow, n_wejsc=5,warstwa_aktywacji=ReLU())\n",
    "        X_trening, X_test, y_trening, y_test = train_test_split(X, y, test_size=test_split, random_state=0)\n",
    "        y_pred, blad= trenuj_testuj(model, X_trening, X_test, y_trening, y_test, 50, 10)\n",
    "        if not np.isnan(blad):\n",
    "            print(blad)\n",
    "            blad_list.append(blad)\n",
    "    min_blad_list.append(min(blad_list))\n"
   ]
  },
  {
   "cell_type": "markdown",
   "metadata": {},
   "source": [
    "Najmniejsze błędy dla poszczególnych wielkości próby testowej."
   ]
  },
  {
   "cell_type": "code",
   "execution_count": 78,
   "metadata": {},
   "outputs": [
    {
     "name": "stdout",
     "output_type": "stream",
     "text": [
      "Wielkość próby testowej jako proporcja: 0.1 - najmniejszy błąd: 0.04644489031366061\n",
      "Wielkość próby testowej jako proporcja: 0.2 - najmniejszy błąd: 0.04119033393502782\n",
      "Wielkość próby testowej jako proporcja: 0.3 - najmniejszy błąd: 0.05197221776049913\n",
      "Wielkość próby testowej jako proporcja: 0.4 - najmniejszy błąd: 0.042056618398840805\n",
      "Wielkość próby testowej jako proporcja: 0.5 - najmniejszy błąd: 0.053093359850560934\n",
      "Wielkość próby testowej jako proporcja: 0.6 - najmniejszy błąd: 0.06645802552518741\n",
      "\n",
      "Wielkość próby testowej osiągająca najmniejszy błąd: 0.2\n"
     ]
    }
   ],
   "source": [
    "for z in range(len(test_list)):\n",
    "    print(\"Wielkość próby testowej jako proporcja:\",test_list[z],\"- najmniejszy błąd:\",min_blad_list[z])\n",
    "\n",
    "optymalna_wielkosc_proby_testowej = test_list[min_blad_list.index(min(min_blad_list))]\n",
    "\n",
    "print(\"\\nWielkość próby testowej osiągająca najmniejszy błąd:\",optymalna_wielkosc_proby_testowej)"
   ]
  },
  {
   "cell_type": "markdown",
   "metadata": {},
   "source": [
    "Sprawdzanie wartości błędu dla poszczególnych liczby okresów, każda kombinacja parametru jest trenowana 10-krotnie (n_neuronow=optymalne, n_warstw=optymalne, n_wejsc=5, warstwa_aktywacji=ReLU)."
   ]
  },
  {
   "cell_type": "code",
   "execution_count": 79,
   "metadata": {},
   "outputs": [],
   "source": [
    "%%capture\n",
    "min_blad_list = []\n",
    "okresy_list = [5,10,20,30,40,50]\n",
    "for okres in okresy_list:\n",
    "    blad_list = []\n",
    "    while(len(blad_list)!=10): #10 razy trenowanie i testowanie sieci\n",
    "        model = wielowarstwowy_perceptron(n_warstw=optymalna_liczba_warstw, n_neuronow=optymalna_liczba_neuronow, n_wejsc=5,warstwa_aktywacji=ReLU())\n",
    "        X_trening, X_test, y_trening, y_test = train_test_split(X, y, test_size=optymalna_wielkosc_proby_testowej, random_state=0)\n",
    "        y_pred, blad= trenuj_testuj(model, X_trening, X_test, y_trening, y_test, okres, 10)\n",
    "        if not np.isnan(blad):\n",
    "            print(blad)\n",
    "            blad_list.append(blad)\n",
    "    min_blad_list.append(min(blad_list))"
   ]
  },
  {
   "cell_type": "markdown",
   "metadata": {},
   "source": [
    "Najmniejsze błędy dla poszczególnych liczb okresów."
   ]
  },
  {
   "cell_type": "code",
   "execution_count": 80,
   "metadata": {},
   "outputs": [
    {
     "name": "stdout",
     "output_type": "stream",
     "text": [
      "Liczba okresów: 5 - najmniejszy błąd: 0.10648131929614073\n",
      "Liczba okresów: 10 - najmniejszy błąd: 0.06289501149620515\n",
      "Liczba okresów: 20 - najmniejszy błąd: 0.05970652208354766\n",
      "Liczba okresów: 30 - najmniejszy błąd: 0.09047198785994301\n",
      "Liczba okresów: 40 - najmniejszy błąd: 0.06888306869912139\n",
      "Liczba okresów: 50 - najmniejszy błąd: 0.07251823493562236\n",
      "\n",
      "Liczba okresów osiągająca najmniejszy błąd: 20\n"
     ]
    }
   ],
   "source": [
    "for z in range(len(okresy_list)):\n",
    "    print(\"Liczba okresów:\",okresy_list[z],\"- najmniejszy błąd:\",min_blad_list[z])\n",
    "\n",
    "optymalny_okres = okresy_list[min_blad_list.index(min(min_blad_list))]\n",
    "\n",
    "print(\"\\nLiczba okresów osiągająca najmniejszy błąd:\",optymalny_okres)"
   ]
  },
  {
   "cell_type": "markdown",
   "metadata": {},
   "source": [
    "Sprawdzanie wartości błędu dla poszczególnych funkcji aktywacja, każda kombinacja parametru jest trenowana 10-krotnie (n_neuronow=optymalne, n_warstw=optymalne, n_wejsc=5)."
   ]
  },
  {
   "cell_type": "code",
   "execution_count": 81,
   "metadata": {},
   "outputs": [],
   "source": [
    "%%capture\n",
    "min_blad_list = []\n",
    "aktywacja_list = [ReLU(),Softplus(),Sigmoid(), Gaussian()]\n",
    "#warstwa_list = [1, 2, 3, 4, 5, 8]\n",
    "for aktywacja in aktywacja_list:\n",
    "    blad_list = []\n",
    "    while(len(blad_list)!=10): #10 razy trenowanie i testowanie sieci\n",
    "        model = wielowarstwowy_perceptron(n_warstw=optymalna_liczba_warstw, n_neuronow=optymalna_liczba_neuronow, n_wejsc=5,warstwa_aktywacji=aktywacja)\n",
    "        X_trening, X_test, y_trening, y_test = train_test_split(X, y, test_size=optymalna_wielkosc_proby_testowej, random_state=0)\n",
    "        y_pred, blad= trenuj_testuj(model, X_trening, X_test, y_trening, y_test, optymalny_okres, 10)\n",
    "        if not np.isnan(blad):\n",
    "            print(blad)\n",
    "            blad_list.append(blad)\n",
    "    min_blad_list.append(min(blad_list))"
   ]
  },
  {
   "cell_type": "markdown",
   "metadata": {},
   "source": [
    "Najmniejsze błędy dla poszczególnych funkcji aktywacji."
   ]
  },
  {
   "cell_type": "code",
   "execution_count": 82,
   "metadata": {},
   "outputs": [
    {
     "name": "stdout",
     "output_type": "stream",
     "text": [
      "Funkcja aktywacji: ReLU - najmniejszy błąd: 0.03716118805219249\n",
      "Funkcja aktywacji: Softplus - najmniejszy błąd: 0.053570123840524966\n",
      "Funkcja aktywacji: Sigmoid - najmniejszy błąd: 0.04700589129261976\n",
      "Funkcja aktywacji: Gaussian - najmniejszy błąd: 0.042066794762273506\n",
      "\n",
      "Warstwa aktywacji osiągająca najmniejszy błąd: ReLU\n"
     ]
    }
   ],
   "source": [
    "for z in range(len(aktywacja_list)):\n",
    "    print(\"Funkcja aktywacji:\",aktywacja_list[z].__class__.__name__,\"- najmniejszy błąd:\",min_blad_list[z])\n",
    "\n",
    "optymalna_funkcja_aktywacji = aktywacja_list[min_blad_list.index(min(min_blad_list))]\n",
    "\n",
    "print(\"\\nWarstwa aktywacji osiągająca najmniejszy błąd:\",optymalna_funkcja_aktywacji.__class__.__name__)"
   ]
  },
  {
   "cell_type": "markdown",
   "metadata": {},
   "source": [
    "Dla kombinacji parametrów: "
   ]
  },
  {
   "cell_type": "code",
   "execution_count": 83,
   "metadata": {},
   "outputs": [
    {
     "name": "stdout",
     "output_type": "stream",
     "text": [
      "Liczba warstw: 8\n",
      "Liczba neuronów: 5\n",
      "Wielkość próby testowej: 0.2\n",
      "Liczba okresów: 20\n",
      "Warstwa aktywacji: ReLU\n"
     ]
    }
   ],
   "source": [
    "print(\"Liczba warstw:\",optymalna_liczba_warstw)\n",
    "print(\"Liczba neuronów:\",optymalna_liczba_neuronow)\n",
    "print(\"Wielkość próby testowej:\",optymalna_wielkosc_proby_testowej)\n",
    "print(\"Liczba okresów:\",optymalny_okres)\n",
    "print(\"Warstwa aktywacji:\",optymalna_funkcja_aktywacji.__class__.__name__)"
   ]
  },
  {
   "cell_type": "markdown",
   "metadata": {},
   "source": [
    "Wartość MSE wynosi:"
   ]
  },
  {
   "cell_type": "code",
   "execution_count": 84,
   "metadata": {},
   "outputs": [
    {
     "name": "stdout",
     "output_type": "stream",
     "text": [
      "0.03716118805219249\n"
     ]
    }
   ],
   "source": [
    "print(min(min_blad_list))"
   ]
  },
  {
   "cell_type": "markdown",
   "metadata": {},
   "source": [
    "Wartość MSE uzyskana w wyniku regresji liniowej wynosiła 0.428395528445253."
   ]
  }
 ],
 "metadata": {
  "kernelspec": {
   "display_name": "base",
   "language": "python",
   "name": "python3"
  },
  "language_info": {
   "codemirror_mode": {
    "name": "ipython",
    "version": 3
   },
   "file_extension": ".py",
   "mimetype": "text/x-python",
   "name": "python",
   "nbconvert_exporter": "python",
   "pygments_lexer": "ipython3",
   "version": "3.8.10"
  }
 },
 "nbformat": 4,
 "nbformat_minor": 2
}

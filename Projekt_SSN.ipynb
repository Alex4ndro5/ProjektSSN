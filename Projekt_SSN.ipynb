{
 "cells": [
  {
   "cell_type": "markdown",
   "metadata": {},
   "source": [
    "# Projekt SSN (Sztuczne sieci neuronowe)\n",
    "### Autorzy: Aleksander Folfas, Zosia Jaworksa, Maciej Komosa, Kajetan Łodej, Natalia Łyś"
   ]
  },
  {
   "cell_type": "markdown",
   "metadata": {},
   "source": [
    "### Opis\n",
    "Lorem ipsum. <- tutaj ma być opis"
   ]
  },
  {
   "cell_type": "markdown",
   "metadata": {},
   "source": [
    "### Przegląd literatury\n",
    "Lorem ipsum. <- tutaj przeglad literatury"
   ]
  },
  {
   "cell_type": "markdown",
   "metadata": {},
   "source": [
    "## Wstęp"
   ]
  },
  {
   "cell_type": "code",
   "execution_count": 53,
   "metadata": {},
   "outputs": [],
   "source": [
    "import numpy as np\n",
    "import random\n",
    "import pandas as pd\n",
    "import matplotlib.pyplot as plt\n",
    "from tqdm import tqdm\n",
    "from sklearn.preprocessing import LabelEncoder"
   ]
  },
  {
   "cell_type": "code",
   "execution_count": 54,
   "metadata": {},
   "outputs": [
    {
     "data": {
      "text/html": [
       "<div>\n",
       "<style scoped>\n",
       "    .dataframe tbody tr th:only-of-type {\n",
       "        vertical-align: middle;\n",
       "    }\n",
       "\n",
       "    .dataframe tbody tr th {\n",
       "        vertical-align: top;\n",
       "    }\n",
       "\n",
       "    .dataframe thead th {\n",
       "        text-align: right;\n",
       "    }\n",
       "</style>\n",
       "<table border=\"1\" class=\"dataframe\">\n",
       "  <thead>\n",
       "    <tr style=\"text-align: right;\">\n",
       "      <th></th>\n",
       "      <th>SquareFeet</th>\n",
       "      <th>Bedrooms</th>\n",
       "      <th>Bathrooms</th>\n",
       "      <th>Neighborhood</th>\n",
       "      <th>YearBuilt</th>\n",
       "      <th>Price</th>\n",
       "    </tr>\n",
       "  </thead>\n",
       "  <tbody>\n",
       "    <tr>\n",
       "      <th>0</th>\n",
       "      <td>2126</td>\n",
       "      <td>4</td>\n",
       "      <td>1</td>\n",
       "      <td>Rural</td>\n",
       "      <td>1969</td>\n",
       "      <td>215355.283618</td>\n",
       "    </tr>\n",
       "    <tr>\n",
       "      <th>1</th>\n",
       "      <td>2459</td>\n",
       "      <td>3</td>\n",
       "      <td>2</td>\n",
       "      <td>Rural</td>\n",
       "      <td>1980</td>\n",
       "      <td>195014.221626</td>\n",
       "    </tr>\n",
       "    <tr>\n",
       "      <th>2</th>\n",
       "      <td>1860</td>\n",
       "      <td>2</td>\n",
       "      <td>1</td>\n",
       "      <td>Suburb</td>\n",
       "      <td>1970</td>\n",
       "      <td>306891.012076</td>\n",
       "    </tr>\n",
       "    <tr>\n",
       "      <th>3</th>\n",
       "      <td>2294</td>\n",
       "      <td>2</td>\n",
       "      <td>1</td>\n",
       "      <td>Urban</td>\n",
       "      <td>1996</td>\n",
       "      <td>206786.787153</td>\n",
       "    </tr>\n",
       "    <tr>\n",
       "      <th>4</th>\n",
       "      <td>2130</td>\n",
       "      <td>5</td>\n",
       "      <td>2</td>\n",
       "      <td>Suburb</td>\n",
       "      <td>2001</td>\n",
       "      <td>272436.239065</td>\n",
       "    </tr>\n",
       "  </tbody>\n",
       "</table>\n",
       "</div>"
      ],
      "text/plain": [
       "   SquareFeet  Bedrooms  Bathrooms Neighborhood  YearBuilt          Price\n",
       "0        2126         4          1        Rural       1969  215355.283618\n",
       "1        2459         3          2        Rural       1980  195014.221626\n",
       "2        1860         2          1       Suburb       1970  306891.012076\n",
       "3        2294         2          1        Urban       1996  206786.787153\n",
       "4        2130         5          2       Suburb       2001  272436.239065"
      ]
     },
     "execution_count": 54,
     "metadata": {},
     "output_type": "execute_result"
    }
   ],
   "source": [
    "# Wczytanie danych\n",
    "housing = pd.read_csv(\"housing_price_dataset.csv\")\n",
    "housing.head()"
   ]
  },
  {
   "cell_type": "markdown",
   "metadata": {},
   "source": [
    "Zmienne w modelu:\n",
    "\n",
    "- SquareFeet - powierzchnia w stopach kwadratowych\n",
    "- Bedrooms - liczba sypialni\n",
    "- Bathrooms - liczba łazienek\n",
    "- Neighborhood - lokalizacja (miejska, podmiejska, wiejska)\n",
    "- YearBuilt - rok budowy\n",
    "- Price - cena"
   ]
  },
  {
   "cell_type": "code",
   "execution_count": 55,
   "metadata": {},
   "outputs": [
    {
     "data": {
      "text/html": [
       "<div>\n",
       "<style scoped>\n",
       "    .dataframe tbody tr th:only-of-type {\n",
       "        vertical-align: middle;\n",
       "    }\n",
       "\n",
       "    .dataframe tbody tr th {\n",
       "        vertical-align: top;\n",
       "    }\n",
       "\n",
       "    .dataframe thead th {\n",
       "        text-align: right;\n",
       "    }\n",
       "</style>\n",
       "<table border=\"1\" class=\"dataframe\">\n",
       "  <thead>\n",
       "    <tr style=\"text-align: right;\">\n",
       "      <th></th>\n",
       "      <th>SquareFeet</th>\n",
       "      <th>Bedrooms</th>\n",
       "      <th>Bathrooms</th>\n",
       "      <th>Neighborhood</th>\n",
       "      <th>YearBuilt</th>\n",
       "      <th>Price</th>\n",
       "    </tr>\n",
       "  </thead>\n",
       "  <tbody>\n",
       "    <tr>\n",
       "      <th>0</th>\n",
       "      <td>2126</td>\n",
       "      <td>4</td>\n",
       "      <td>1</td>\n",
       "      <td>0</td>\n",
       "      <td>1969</td>\n",
       "      <td>215355.283618</td>\n",
       "    </tr>\n",
       "    <tr>\n",
       "      <th>1</th>\n",
       "      <td>2459</td>\n",
       "      <td>3</td>\n",
       "      <td>2</td>\n",
       "      <td>0</td>\n",
       "      <td>1980</td>\n",
       "      <td>195014.221626</td>\n",
       "    </tr>\n",
       "    <tr>\n",
       "      <th>2</th>\n",
       "      <td>1860</td>\n",
       "      <td>2</td>\n",
       "      <td>1</td>\n",
       "      <td>1</td>\n",
       "      <td>1970</td>\n",
       "      <td>306891.012076</td>\n",
       "    </tr>\n",
       "    <tr>\n",
       "      <th>3</th>\n",
       "      <td>2294</td>\n",
       "      <td>2</td>\n",
       "      <td>1</td>\n",
       "      <td>2</td>\n",
       "      <td>1996</td>\n",
       "      <td>206786.787153</td>\n",
       "    </tr>\n",
       "    <tr>\n",
       "      <th>4</th>\n",
       "      <td>2130</td>\n",
       "      <td>5</td>\n",
       "      <td>2</td>\n",
       "      <td>1</td>\n",
       "      <td>2001</td>\n",
       "      <td>272436.239065</td>\n",
       "    </tr>\n",
       "  </tbody>\n",
       "</table>\n",
       "</div>"
      ],
      "text/plain": [
       "   SquareFeet  Bedrooms  Bathrooms  Neighborhood  YearBuilt          Price\n",
       "0        2126         4          1             0       1969  215355.283618\n",
       "1        2459         3          2             0       1980  195014.221626\n",
       "2        1860         2          1             1       1970  306891.012076\n",
       "3        2294         2          1             2       1996  206786.787153\n",
       "4        2130         5          2             1       2001  272436.239065"
      ]
     },
     "execution_count": 55,
     "metadata": {},
     "output_type": "execute_result"
    }
   ],
   "source": [
    "# Ziana Neighborhood na liczby\n",
    "le = LabelEncoder()\n",
    "housing[\"Neighborhood\"] = le.fit_transform(housing[\"Neighborhood\"])\n",
    "housing.head()"
   ]
  },
  {
   "cell_type": "code",
   "execution_count": 56,
   "metadata": {},
   "outputs": [
    {
     "data": {
      "image/png": "[encoded data removed]",
      "text/plain": [
       "<Figure size 1500x500 with 3 Axes>"
      ]
     },
     "metadata": {},
     "output_type": "display_data"
    }
   ],
   "source": [
    "# Histogramy dla zmienny SquareFeet, YearBuilt, Price w grdzie 3x1\n",
    "fig, axes = plt.subplots(1, 3, figsize=(15, 5))\n",
    "housing['SquareFeet'].hist(ax=axes[0], bins=50)\n",
    "housing['YearBuilt'].hist(ax=axes[1], bins=50)\n",
    "housing['Price'].hist(ax=axes[2], bins=50)\n",
    "plt.show()"
   ]
  },
  {
   "cell_type": "code",
   "execution_count": 57,
   "metadata": {},
   "outputs": [
    {
     "data": {
      "image/png": "[encoded data removed]",
      "text/plain": [
       "<Figure size 1500x500 with 3 Axes>"
      ]
     },
     "metadata": {},
     "output_type": "display_data"
    }
   ],
   "source": [
    "# Wykresy kołowe dla zmiennych: Neighborhood, Bathrooms, Bedrooms \n",
    "fig, axes = plt.subplots(1, 3, figsize=(15, 5))\n",
    "housing['Neighborhood'].value_counts().plot(kind='pie', ax=axes[0], title = 'Neighborhood', autopct='%1.1f%%')\n",
    "housing['Bathrooms'].value_counts().plot(kind='pie', ax=axes[1] , title = 'Bathrooms',  autopct='%1.1f%%')\n",
    "housing['Bedrooms'].value_counts().plot(kind='pie', ax=axes[2], title = 'Bedrooms',  autopct='%1.1f%%')\n",
    "plt.show()"
   ]
  },
  {
   "cell_type": "markdown",
   "metadata": {},
   "source": [
    "Neighbourhood: 0 - Rural, 1 - Suburb, 2 - Urban"
   ]
  },
  {
   "cell_type": "markdown",
   "metadata": {},
   "source": [
    "## Kod sztucznej sieci neuronowej"
   ]
  },
  {
   "cell_type": "markdown",
   "metadata": {},
   "source": [
    "#### Warstwa, z metodami propagacji naprzód oraz wstecz"
   ]
  },
  {
   "cell_type": "code",
   "execution_count": 58,
   "metadata": {},
   "outputs": [],
   "source": [
    "class warstwa:\n",
    "    def __init__(self, liczba_wejsc, liczba_wyjsc, wspolczynnik_uczenia):\n",
    "        self.x = None\n",
    "        self.wagi = np.random.randn(liczba_wejsc, liczba_wyjsc) / np.sqrt(liczba_wejsc)\n",
    "        rng = np.random.default_rng()\n",
    "        self.bias = rng.random(liczba_wyjsc)\n",
    "        self.liczba_wejsc = liczba_wejsc\n",
    "        self.liczba_wyjsc = liczba_wyjsc\n",
    "        self.wspolczynnik_uczenia = wspolczynnik_uczenia\n",
    "\n",
    "    def naprzod(self, x, trening=False):\n",
    "        if trening:\n",
    "            self.x = x\n",
    "        return np.dot(x, self.wagi) + self.bias\n",
    "    \n",
    "    def wstecz(self, dx):\n",
    "        zmiana_wag = np.dot(self.x.T, dx)\n",
    "        zmiana_biasu = np.sum(dx, axis=0)\n",
    "        self.wagi = self.wagi - np.dot(self.wspolczynnik_uczenia, zmiana_wag)\n",
    "        self.bias = self.bias - np.dot(self.wspolczynnik_uczenia, zmiana_biasu)\n",
    "        return np.dot(dx, self.wagi.T)"
   ]
  },
  {
   "cell_type": "markdown",
   "metadata": {},
   "source": [
    "#### Bramki aktywacji"
   ]
  },
  {
   "cell_type": "code",
   "execution_count": 59,
   "metadata": {},
   "outputs": [],
   "source": [
    "class Sigmoid:\n",
    "    def __init__(self):\n",
    "        self.wyjscie = None\n",
    "\n",
    "    def naprzod(self, x, trening=False):\n",
    "        wynik = 1/(1+np.exp(-x))\n",
    "        if trening:\n",
    "            self.wyjscie = wynik\n",
    "        return wynik\n",
    "    \n",
    "    def wstecz(self, dx):\n",
    "        return dx * (1 - self.wyjscie) * self.wyjscie\n",
    "    \n",
    "class ReLU:\n",
    "    def __init__(self):\n",
    "        self.wyjscie = None\n",
    "\n",
    "    def naprzod(self, x, trening=False):\n",
    "        wynik = np.where(x > 0, x, 0)\n",
    "        if trening:\n",
    "            self.wyjscie = wynik\n",
    "        return wynik\n",
    "    \n",
    "    def wstecz(self, dx):\n",
    "        return dx * np.where(self.wyjscie > 0, 1, 0)\n",
    "    \n",
    "class Softplus:\n",
    "    def __init__(self):\n",
    "        self.wyjscie = None\n",
    "\n",
    "    def naprzod(self, x, trening=False):\n",
    "        wynik = np.log(1+np.exp(x))\n",
    "        if trening:\n",
    "            self.wyjscie = wynik\n",
    "        return wynik\n",
    "    \n",
    "    def wstecz(self, dx):\n",
    "        return dx * 1/(1+np.exp(-self.wyjscie))"
   ]
  },
  {
   "cell_type": "markdown",
   "metadata": {},
   "source": [
    "### Neuron błędu"
   ]
  },
  {
   "cell_type": "code",
   "execution_count": 60,
   "metadata": {},
   "outputs": [],
   "source": [
    "class MSE:\n",
    "    def __init__(self):\n",
    "        self.wyjscie = None\n",
    "        self.x = None\n",
    "        self.y = None\n",
    "\n",
    "    def naprzod(self, x, y, trening=False):\n",
    "        self.x = x\n",
    "        self.y = y\n",
    "        wynik = np.mean(np.power(x - y, 2))\n",
    "        if trening:\n",
    "            self.wyjscie = wynik\n",
    "        return wynik\n",
    "    \n",
    "    def wstecz(self):\n",
    "        return 2 * (self.x - self.y) / self.x.size"
   ]
  },
  {
   "cell_type": "markdown",
   "metadata": {},
   "source": [
    "#### Perceptron, z metodami propagacji naprzód oraz wstecz\n",
    "Przy propagacji naprzód przepuszcza dane wejściowe przez całą sieć, zwraca wyjście ostatniej warstwy (ostatnia warstwa jest jednym neuronem, wyjście jest jedną liczbą)\n",
    "Przy propagacji wstecz oblicza błąd predykcji oraz przepuszcza go przez całą sieć, nie zwraca żadnej wartości"
   ]
  },
  {
   "cell_type": "code",
   "execution_count": 61,
   "metadata": {},
   "outputs": [],
   "source": [
    "class wielowarstwowy_perceptron:\n",
    "    def __init__(self, n_warstw, n_neuronow, n_wejsc, wspolczynnik_uczenia=0.01):\n",
    "        self.warstwy = [warstwa(n_wejsc, n_neuronow, wspolczynnik_uczenia=0)]\n",
    "        for _ in range(n_warstw):\n",
    "            self.warstwy.append(warstwa(n_neuronow, n_neuronow, wspolczynnik_uczenia))\n",
    "            self.warstwy.append(Sigmoid())\n",
    "        self.warstwy.append(warstwa(n_neuronow, 1, wspolczynnik_uczenia))\n",
    "        self.warstwa_bledu = MSE()\n",
    "\n",
    "    def naprzod(self, x, trening):\n",
    "        wejscie = x\n",
    "        for warstwa in self.warstwy:\n",
    "            wynik = warstwa.naprzod(wejscie, trening)\n",
    "            wejscie = wynik\n",
    "        return wynik\n",
    "\n",
    "    def wstecz(self, wejscie):\n",
    "        blad = wejscie\n",
    "        for warstwa in reversed(self.warstwy):\n",
    "            wynik = warstwa.wstecz(blad)\n",
    "            blad = wynik\n",
    "    \n",
    "    def naprzod_oblicz_blad(self, x, y, trening):\n",
    "        wynik = self.naprzod(x, trening)\n",
    "        return self.warstwa_bledu.naprzod(wynik, y)"
   ]
  },
  {
   "cell_type": "markdown",
   "metadata": {},
   "source": [
    "### Funkcje trenowania i testowania"
   ]
  },
  {
   "cell_type": "code",
   "execution_count": 62,
   "metadata": {},
   "outputs": [],
   "source": [
    "def trenuj(model, X, y, n_okresow, wielkosc_serii=10):\n",
    "    X_trening = X[::3] + X[1::3]\n",
    "    X_walidacja = X[2::3]\n",
    "    y_trening = y[::3] + y[::3]\n",
    "    y_walidacja = y[2::3]\n",
    "\n",
    "    for _ in tqdm(range(n_okresow)):\n",
    "        indeksy_treningu = random.sample(range(len(X_trening)), wielkosc_serii)\n",
    "        X_seria = np.array([X_trening[i] for i in indeksy_treningu])\n",
    "        y_seria = np.array([y_trening[i] for i in indeksy_treningu])\n",
    "\n",
    "        blad = model.naprzod_oblicz_blad(X_seria, y_seria, True)\n",
    "        model.wstecz(blad)\n",
    "    \n",
    "    indeksu_walidacji = random.sample(range(len(X_walidacja)), wielkosc_serii)\n",
    "    X_walidacja = np.array([X_walidacja[i] for i in indeksu_walidacji])\n",
    "    y_walidacja = np.array([y_walidacja[i] for i in indeksu_walidacji])\n",
    "    blad = model.naprzod_oblicz_blad(X_walidacja, y_walidacja, False)\n",
    "    print(\"Blad: {}\".format(blad))\n",
    "    return X_walidacja, model.naprzod(X_walidacja, False)"
   ]
  },
  {
   "cell_type": "markdown",
   "metadata": {},
   "source": [
    "### przygotowanie danych"
   ]
  },
  {
   "cell_type": "code",
   "execution_count": 63,
   "metadata": {},
   "outputs": [],
   "source": [
    "from sklearn.preprocessing import MinMaxScaler\n",
    "dane = pd.read_csv('housing_price_dataset.csv')\n",
    "\n",
    "enkoder_etykiet = LabelEncoder()\n",
    "for kolumna in dane.select_dtypes(include='object').columns:\n",
    "    dane[kolumna] = enkoder_etykiet.fit_transform(dane[kolumna])\n",
    "\n",
    "dane = dane.dropna().values\n",
    "\n",
    "dane = MinMaxScaler((-1,1)).fit_transform(dane)\n",
    "X = dane[:1011, :-1]\n",
    "y = dane[:1011, -1]"
   ]
  },
  {
   "cell_type": "markdown",
   "metadata": {},
   "source": [
    "# przebieg testowy"
   ]
  },
  {
   "cell_type": "code",
   "execution_count": 64,
   "metadata": {},
   "outputs": [
    {
     "name": "stderr",
     "output_type": "stream",
     "text": [
      "100%|██████████| 20/20 [00:00<00:00, 5383.87it/s]"
     ]
    },
    {
     "name": "stdout",
     "output_type": "stream",
     "text": [
      "Blad: 0.15342336316194172\n",
      "Wyjscie modelu: [[ 2.95370887e-04  1.18617702e-03 -1.34911726e-04  9.46408747e-04\n",
      "   1.42352443e-03  1.47508886e-03  1.06302637e-03  6.25735261e-04\n",
      "   2.79460707e-03  1.94543277e-03]\n",
      " [-2.44332397e-02 -2.35991357e-02 -2.48636636e-02 -2.38180588e-02\n",
      "  -2.33445544e-02 -2.33282679e-02 -2.37251476e-02 -2.41245831e-02\n",
      "  -2.20584988e-02 -2.28465923e-02]\n",
      " [-1.09287286e-01 -1.08612450e-01 -1.09693303e-01 -1.08765217e-01\n",
      "  -1.08333610e-01 -1.08393988e-01 -1.08737115e-01 -1.09037338e-01\n",
      "  -1.07288490e-01 -1.07913322e-01]\n",
      " [-1.52466208e-01 -1.51860562e-01 -1.52856063e-01 -1.51981874e-01\n",
      "  -1.51576400e-01 -1.51666089e-01 -1.51983103e-01 -1.52241122e-01\n",
      "  -1.50637671e-01 -1.51193029e-01]\n",
      " [-2.43334900e-02 -2.34942976e-02 -2.47449404e-02 -2.37077852e-02\n",
      "  -2.32612184e-02 -2.32306131e-02 -2.36185205e-02 -2.40209586e-02\n",
      "  -2.19818016e-02 -2.27761821e-02]\n",
      " [-1.37811170e-01 -1.37173837e-01 -1.38189390e-01 -1.37302685e-01\n",
      "  -1.36911704e-01 -1.36974910e-01 -1.37294130e-01 -1.37572838e-01\n",
      "  -1.35934722e-01 -1.36524394e-01]\n",
      " [-9.91462650e-02 -9.84427933e-02 -9.95487974e-02 -9.86039298e-02\n",
      "  -9.81761354e-02 -9.82176867e-02 -9.85663379e-02 -9.88848916e-02\n",
      "  -9.70919973e-02 -9.77473368e-02]\n",
      " [-9.25301507e-02 -9.18187593e-02 -9.29138160e-02 -9.19757050e-02\n",
      "  -9.15750028e-02 -9.16019256e-02 -9.19419871e-02 -9.22638585e-02\n",
      "  -9.04967554e-02 -9.11597661e-02]\n",
      " [-4.24704231e-02 -4.16664599e-02 -4.28969873e-02 -4.18728299e-02\n",
      "  -4.14062758e-02 -4.14049108e-02 -4.17920544e-02 -4.21729079e-02\n",
      "  -4.01647479e-02 -4.09221910e-02]\n",
      " [-1.43942537e-01 -1.43326715e-01 -1.44313304e-01 -1.43444705e-01\n",
      "  -1.43066469e-01 -1.43140070e-01 -1.43448957e-01 -1.43711664e-01\n",
      "  -1.42130737e-01 -1.42696037e-01]]\n"
     ]
    },
    {
     "name": "stderr",
     "output_type": "stream",
     "text": [
      "\n"
     ]
    }
   ],
   "source": [
    "model = wielowarstwowy_perceptron(n_warstw=2, n_neuronow=5, n_wejsc=5)\n",
    "zestaw_walidacyjny, wyjscie_modelu = trenuj(model, X, y, 20, 10)"
   ]
  },
  {
   "cell_type": "markdown",
   "metadata": {},
   "source": [
    "### Kod funkcji aktywacji"
   ]
  },
  {
   "cell_type": "code",
   "execution_count": 65,
   "metadata": {},
   "outputs": [],
   "source": [
    "# Logistyczna funkcja aktywacji\n",
    "def sigmoid(x, pochodna = False):\n",
    "    if pochodna:\n",
    "        return sigmoid(x)*(1-sigmoid(x))\n",
    "    return \n",
    "# Hiperboliczna funkcja aktywacji\n",
    "def tanh(x, pochodna = False):\n",
    "    if pochodna:\n",
    "        return 1 - np.tanh(x)**2\n",
    "    return np.tanh(x)\n",
    "# Softplus\n",
    "def softplus(x, pochodna = False):\n",
    "    if pochodna:\n",
    "        return sigmoid(x)\n",
    "    return \n",
    "# Exponential Linear Unit - Elu\n",
    "def elu(x, pochodna = False):\n",
    "    if pochodna:\n",
    "        return np.where(x > 0, 1, np.exp(x))\n",
    "    return np.where(x > 0, x, np.exp(x) - 1)\n",
    "# Rectified Linear Unit - ReLU\n",
    "def relu(x, pochodna = False):\n",
    "    if pochodna:\n",
    "        return \n",
    "    return \n",
    "# Sigmoid linear unit - SiLU\n",
    "def silu(x, pochodna = False):\n",
    "    if pochodna:\n",
    "        return sigmoid(x) + x*sigmoid(x)*(1-sigmoid(x))\n",
    "    return x*sigmoid(x)\n",
    "# Gaussian \n",
    "def gaussian(x, pochodna = False):\n",
    "    if pochodna:\n",
    "        return -2*x*np.exp(-x**2)\n",
    "    return np.exp(-x**2)"
   ]
  },
  {
   "cell_type": "markdown",
   "metadata": {},
   "source": [
    "### Wizualizacja funkcji aktywacji"
   ]
  },
  {
   "cell_type": "code",
   "execution_count": 66,
   "metadata": {},
   "outputs": [
    {
     "ename": "TypeError",
     "evalue": "unsupported operand type(s) for -: 'int' and 'NoneType'",
     "output_type": "error",
     "traceback": [
      "\u001b[0;31m---------------------------------------------------------------------------\u001b[0m",
      "\u001b[0;31mTypeError\u001b[0m                                 Traceback (most recent call last)",
      "Cell \u001b[0;32mIn[66], line 13\u001b[0m\n\u001b[1;32m     11\u001b[0m x \u001b[38;5;241m=\u001b[39m np\u001b[38;5;241m.\u001b[39mlinspace(\u001b[38;5;241m-\u001b[39m\u001b[38;5;241m2\u001b[39m, \u001b[38;5;241m2\u001b[39m, \u001b[38;5;241m100\u001b[39m)\n\u001b[1;32m     12\u001b[0m y \u001b[38;5;241m=\u001b[39m functions[i](x)\n\u001b[0;32m---> 13\u001b[0m y_derivatives \u001b[38;5;241m=\u001b[39m \u001b[43mfunctions\u001b[49m\u001b[43m[\u001b[49m\u001b[43mi\u001b[49m\u001b[43m]\u001b[49m\u001b[43m(\u001b[49m\u001b[43mx\u001b[49m\u001b[43m,\u001b[49m\u001b[43m \u001b[49m\u001b[43mpochodna\u001b[49m\u001b[38;5;241;43m=\u001b[39;49m\u001b[38;5;28;43;01mTrue\u001b[39;49;00m\u001b[43m)\u001b[49m\n\u001b[1;32m     14\u001b[0m ax\u001b[38;5;241m.\u001b[39maxhline(\u001b[38;5;241m0\u001b[39m, color\u001b[38;5;241m=\u001b[39m\u001b[38;5;124m'\u001b[39m\u001b[38;5;124mblack\u001b[39m\u001b[38;5;124m'\u001b[39m, linewidth\u001b[38;5;241m=\u001b[39m\u001b[38;5;241m0.8\u001b[39m)  \n\u001b[1;32m     15\u001b[0m ax\u001b[38;5;241m.\u001b[39maxvline(\u001b[38;5;241m0\u001b[39m, color\u001b[38;5;241m=\u001b[39m\u001b[38;5;124m'\u001b[39m\u001b[38;5;124mblack\u001b[39m\u001b[38;5;124m'\u001b[39m, linewidth\u001b[38;5;241m=\u001b[39m\u001b[38;5;241m0.8\u001b[39m)\n",
      "Cell \u001b[0;32mIn[65], line 4\u001b[0m, in \u001b[0;36msigmoid\u001b[0;34m(x, pochodna)\u001b[0m\n\u001b[1;32m      2\u001b[0m \u001b[38;5;28;01mdef\u001b[39;00m \u001b[38;5;21msigmoid\u001b[39m(x, pochodna \u001b[38;5;241m=\u001b[39m \u001b[38;5;28;01mFalse\u001b[39;00m):\n\u001b[1;32m      3\u001b[0m     \u001b[38;5;28;01mif\u001b[39;00m pochodna:\n\u001b[0;32m----> 4\u001b[0m         \u001b[38;5;28;01mreturn\u001b[39;00m sigmoid(x)\u001b[38;5;241m*\u001b[39m(\u001b[38;5;241;43m1\u001b[39;49m\u001b[38;5;241;43m-\u001b[39;49m\u001b[43msigmoid\u001b[49m\u001b[43m(\u001b[49m\u001b[43mx\u001b[49m\u001b[43m)\u001b[49m)\n\u001b[1;32m      5\u001b[0m     \u001b[38;5;28;01mreturn\u001b[39;00m\n",
      "\u001b[0;31mTypeError\u001b[0m: unsupported operand type(s) for -: 'int' and 'NoneType'"
     ]
    },
    {
     "data": {
      "image/png": "[encoded data removed]",
      "text/plain": [
       "<Figure size 800x400 with 6 Axes>"
      ]
     },
     "metadata": {},
     "output_type": "display_data"
    }
   ],
   "source": [
    "# Ustawienia siatki\n",
    "rows = 2\n",
    "cols = 3\n",
    "fig, axes = plt.subplots(rows, cols, figsize=(8, 4))\n",
    "\n",
    "# Tworzenie wykresów dla każdej funkcji\n",
    "functions = [sigmoid, tanh, softplus, elu, silu, gaussian]\n",
    "function_names = ['sigmoid', 'tanh', 'softplus', 'elu', 'silu', 'gaussian']\n",
    "\n",
    "for i, ax in enumerate(axes.flatten()):\n",
    "    x = np.linspace(-2, 2, 100)\n",
    "    y = functions[i](x)\n",
    "    y_derivatives = functions[i](x, pochodna=True)\n",
    "    ax.axhline(0, color='black', linewidth=0.8)  \n",
    "    ax.axvline(0, color='black', linewidth=0.8)\n",
    "    ax.plot(x, y, linewidth=1.5)\n",
    "    if y_derivatives is not None:\n",
    "        ax.plot(x, y_derivatives, linewidth=1.5, linestyle='--')\n",
    "    ax.set_title(function_names[i])\n",
    "    ax.grid(True)\n",
    "\n",
    "plt.tight_layout()\n",
    "\n",
    "plt.show()\n"
   ]
  }
 ],
 "metadata": {
  "kernelspec": {
   "display_name": "base",
   "language": "python",
   "name": "python3"
  },
  "language_info": {
   "codemirror_mode": {
    "name": "ipython",
    "version": 3
   },
   "file_extension": ".py",
   "mimetype": "text/x-python",
   "name": "python",
   "nbconvert_exporter": "python",
   "pygments_lexer": "ipython3",
   "version": "3.9.6"
  }
 },
 "nbformat": 4,
 "nbformat_minor": 2
}
